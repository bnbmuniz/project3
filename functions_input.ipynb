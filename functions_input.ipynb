{
 "cells": [
  {
   "cell_type": "code",
   "execution_count": null,
   "metadata": {},
   "outputs": [],
   "source": [
    "def choose_time():\n",
    "\n",
    "    ti_me = input(\"Tell us how much time for a good time you have: \").capitalize().strip()\n",
    "    if ti_me.isalpha() == True:\n",
    "        print(\"Please write your name using only numbers\")\n",
    "        choose_time()    \n",
    "    else:\n",
    "        continue\n",
    "\n",
    "netflix_list = list(titles_df['Netflix tiles'])\n",
    "def streaming_netflix(row):\n",
    "    if netflix_list in row:\n",
    "        return 1\n",
    "    else:\n",
    "        return 0\n",
    "\n",
    "imdb['streaming_netflix']=imdb['title'].apply(streaming_netflix)"
   ]
  },
  {
   "cell_type": "code",
   "execution_count": 1,
   "metadata": {},
   "outputs": [],
   "source": [
    "import pandas as pd\n",
    "df = pd.DataFrame()"
   ]
  },
  {
   "cell_type": "code",
   "execution_count": null,
   "metadata": {},
   "outputs": [],
   "source": [
    "a = \"1:2\"\n",
    "a.split(\":\")"
   ]
  },
  {
   "cell_type": "code",
   "execution_count": null,
   "metadata": {},
   "outputs": [],
   "source": []
  },
  {
   "cell_type": "code",
   "execution_count": 2,
   "metadata": {},
   "outputs": [],
   "source": [
    "def changing_time(row):\n",
    "    for element in row:\n",
    "        if \":\" in element:\n",
    "            element_li=element.split(\":\")\n",
    "            for element in element_li:\n",
    "                element = (int(element[0])*60)+int(element[1])\n",
    "            return element\n",
    "        else:\n",
    "            return element \n",
    "\n",
    "    "
   ]
  }
 ],
 "metadata": {
  "interpreter": {
   "hash": "8db99648312aac6a1ca6fa20cf9cd0f6cb742beda7287940fc065d1e432e91d0"
  },
  "kernelspec": {
   "display_name": "Python 3.8.8 64-bit ('base': conda)",
   "language": "python",
   "name": "python3"
  },
  "language_info": {
   "codemirror_mode": {
    "name": "ipython",
    "version": 3
   },
   "file_extension": ".py",
   "mimetype": "text/x-python",
   "name": "python",
   "nbconvert_exporter": "python",
   "pygments_lexer": "ipython3",
   "version": "3.8.8"
  },
  "orig_nbformat": 4
 },
 "nbformat": 4,
 "nbformat_minor": 2
}
